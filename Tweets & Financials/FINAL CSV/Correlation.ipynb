{
 "cells": [
  {
   "cell_type": "code",
   "execution_count": 1,
   "metadata": {},
   "outputs": [],
   "source": [
    "import pandas as pd\n",
    "import numpy as np\n",
    "\n",
    "import matplotlib.pyplot as plt\n",
    "%matplotlib inline"
   ]
  },
  {
   "cell_type": "code",
   "execution_count": 2,
   "metadata": {},
   "outputs": [],
   "source": [
    "dataset = pd.read_csv(\"combined.csv\")"
   ]
  },
  {
   "cell_type": "code",
   "execution_count": 3,
   "metadata": {},
   "outputs": [
    {
     "data": {
      "text/html": [
       "<div>\n",
       "<style scoped>\n",
       "    .dataframe tbody tr th:only-of-type {\n",
       "        vertical-align: middle;\n",
       "    }\n",
       "\n",
       "    .dataframe tbody tr th {\n",
       "        vertical-align: top;\n",
       "    }\n",
       "\n",
       "    .dataframe thead th {\n",
       "        text-align: right;\n",
       "    }\n",
       "</style>\n",
       "<table border=\"1\" class=\"dataframe\">\n",
       "  <thead>\n",
       "    <tr style=\"text-align: right;\">\n",
       "      <th></th>\n",
       "      <th>Date</th>\n",
       "      <th>Sentiment</th>\n",
       "      <th>Daily Change</th>\n",
       "      <th>Direction</th>\n",
       "      <th>Signal</th>\n",
       "    </tr>\n",
       "  </thead>\n",
       "  <tbody>\n",
       "    <tr>\n",
       "      <th>0</th>\n",
       "      <td>01/07/2015</td>\n",
       "      <td>0.000000</td>\n",
       "      <td>0.000000</td>\n",
       "      <td>DOWN</td>\n",
       "      <td>-1</td>\n",
       "    </tr>\n",
       "    <tr>\n",
       "      <th>1</th>\n",
       "      <td>02/07/2015</td>\n",
       "      <td>0.150000</td>\n",
       "      <td>10.869995</td>\n",
       "      <td>UP</td>\n",
       "      <td>1</td>\n",
       "    </tr>\n",
       "    <tr>\n",
       "      <th>2</th>\n",
       "      <td>03/07/2015</td>\n",
       "      <td>0.119048</td>\n",
       "      <td>-0.149994</td>\n",
       "      <td>DOWN</td>\n",
       "      <td>-1</td>\n",
       "    </tr>\n",
       "    <tr>\n",
       "      <th>3</th>\n",
       "      <td>04/07/2015</td>\n",
       "      <td>0.191667</td>\n",
       "      <td>-0.074997</td>\n",
       "      <td>DOWN</td>\n",
       "      <td>-1</td>\n",
       "    </tr>\n",
       "    <tr>\n",
       "      <th>4</th>\n",
       "      <td>05/07/2015</td>\n",
       "      <td>0.311111</td>\n",
       "      <td>-0.037499</td>\n",
       "      <td>DOWN</td>\n",
       "      <td>-1</td>\n",
       "    </tr>\n",
       "  </tbody>\n",
       "</table>\n",
       "</div>"
      ],
      "text/plain": [
       "         Date  Sentiment  Daily Change Direction  Signal\n",
       "0  01/07/2015   0.000000      0.000000      DOWN      -1\n",
       "1  02/07/2015   0.150000     10.869995        UP       1\n",
       "2  03/07/2015   0.119048     -0.149994      DOWN      -1\n",
       "3  04/07/2015   0.191667     -0.074997      DOWN      -1\n",
       "4  05/07/2015   0.311111     -0.037499      DOWN      -1"
      ]
     },
     "execution_count": 3,
     "metadata": {},
     "output_type": "execute_result"
    }
   ],
   "source": [
    "dataset.head()"
   ]
  },
  {
   "cell_type": "code",
   "execution_count": 4,
   "metadata": {},
   "outputs": [],
   "source": [
    "sentiment = dataset[\"Sentiment\"]"
   ]
  },
  {
   "cell_type": "code",
   "execution_count": 5,
   "metadata": {},
   "outputs": [],
   "source": [
    "change = dataset[\"Daily Change\"]"
   ]
  },
  {
   "cell_type": "code",
   "execution_count": 6,
   "metadata": {},
   "outputs": [],
   "source": [
    "signal = dataset[\"Signal\"]"
   ]
  },
  {
   "cell_type": "code",
   "execution_count": null,
   "metadata": {},
   "outputs": [],
   "source": []
  },
  {
   "cell_type": "markdown",
   "metadata": {},
   "source": [
    "First, let's generate a scatterplot so we have a visual representation of the data for sentiment score & daily change in stock price."
   ]
  },
  {
   "cell_type": "code",
   "execution_count": 7,
   "metadata": {},
   "outputs": [
    {
     "data": {
      "text/plain": [
       "<function matplotlib.pyplot.show(*args, **kw)>"
      ]
     },
     "execution_count": 7,
     "metadata": {},
     "output_type": "execute_result"
    },
    {
     "data": {
      "image/png": "[encoded data removed]",
      "text/plain": [
       "<Figure size 432x288 with 1 Axes>"
      ]
     },
     "metadata": {
      "needs_background": "light"
     },
     "output_type": "display_data"
    }
   ],
   "source": [
    "plt.scatter(sentiment, change)\n",
    "plt.title(\"Scatterplot: Sentiment Score vs Daily Change in Stock Price\")\n",
    "plt.xlabel('Daily Sentiment Score')\n",
    "plt.ylabel('Daily Stock Directional Movement')\n",
    "plt.show"
   ]
  },
  {
   "cell_type": "code",
   "execution_count": null,
   "metadata": {},
   "outputs": [],
   "source": []
  },
  {
   "cell_type": "markdown",
   "metadata": {},
   "source": [
    "Now we wish to look at the Co-Variance Matrix"
   ]
  },
  {
   "cell_type": "code",
   "execution_count": 8,
   "metadata": {},
   "outputs": [
    {
     "name": "stdout",
     "output_type": "stream",
     "text": [
      "[[2.50642304e-02 1.00606329e-02]\n",
      " [1.00606329e-02 1.28175658e+02]]\n"
     ]
    }
   ],
   "source": [
    "covariance = np.cov(sentiment, change)\n",
    "print(covariance)"
   ]
  },
  {
   "cell_type": "code",
   "execution_count": 9,
   "metadata": {},
   "outputs": [
    {
     "name": "stdout",
     "output_type": "stream",
     "text": [
      "[[ 0.02506423 -0.00135184]\n",
      " [-0.00135184  0.99948704]]\n"
     ]
    }
   ],
   "source": [
    "covariance = np.cov(sentiment, signal)\n",
    "print(covariance)"
   ]
  },
  {
   "cell_type": "markdown",
   "metadata": {},
   "source": [
    "The covariance matrix is difficult to interpret.\n",
    "<br>\n",
    "Let's take a look at Pearson's Correlation Co-Efficient in the hope that this will provide greater insight."
   ]
  },
  {
   "cell_type": "code",
   "execution_count": 10,
   "metadata": {},
   "outputs": [],
   "source": [
    "from scipy.stats import pearsonr"
   ]
  },
  {
   "cell_type": "code",
   "execution_count": 11,
   "metadata": {},
   "outputs": [
    {
     "name": "stdout",
     "output_type": "stream",
     "text": [
      "Pearsons correlation: 0.006\n"
     ]
    }
   ],
   "source": [
    "corr, _ = pearsonr(sentiment, change)\n",
    "print('Pearsons correlation: %.3f' % corr)"
   ]
  },
  {
   "cell_type": "markdown",
   "metadata": {},
   "source": [
    "So we do have a (very minimal) positive correlation between the two variables,\n",
    "<br>\n",
    "according to calculating Pearson's correlation co-efficient."
   ]
  },
  {
   "cell_type": "code",
   "execution_count": 12,
   "metadata": {},
   "outputs": [
    {
     "name": "stdout",
     "output_type": "stream",
     "text": [
      "Pearsons correlation: -0.009\n"
     ]
    }
   ],
   "source": [
    "corr, _ = pearsonr(sentiment, signal)\n",
    "print('Pearsons correlation: %.3f' % corr)"
   ]
  },
  {
   "cell_type": "markdown",
   "metadata": {},
   "source": [
    "So we do have a (very minimal) negative correlation between the two variables,\n",
    "<br>\n",
    "according to calculating Pearson's correlation co-efficient."
   ]
  },
  {
   "cell_type": "markdown",
   "metadata": {},
   "source": [
    "Another test exists which is often employed in the case of a non-linear relationship, \n",
    "<br>\n",
    "which could prove to be more effective in this case.\n",
    "<br>\n",
    "Let's employ the calculation to find Spearman's Correlation Co-Efficient."
   ]
  },
  {
   "cell_type": "code",
   "execution_count": 13,
   "metadata": {},
   "outputs": [],
   "source": [
    "from scipy.stats import spearmanr"
   ]
  },
  {
   "cell_type": "code",
   "execution_count": 14,
   "metadata": {},
   "outputs": [
    {
     "name": "stdout",
     "output_type": "stream",
     "text": [
      "Spearmans correlation: 0.001\n"
     ]
    }
   ],
   "source": [
    "corr, _ = spearmanr(sentiment, change)\n",
    "print('Spearmans correlation: %.3f' % corr)"
   ]
  },
  {
   "cell_type": "code",
   "execution_count": 15,
   "metadata": {},
   "outputs": [
    {
     "name": "stdout",
     "output_type": "stream",
     "text": [
      "Spearmans correlation: 0.000\n"
     ]
    }
   ],
   "source": [
    "corr, _ = spearmanr(sentiment, signal)\n",
    "print('Spearmans correlation: %.3f' % corr)"
   ]
  },
  {
   "cell_type": "markdown",
   "metadata": {},
   "source": [
    "So it appears that the two time series are not correlated,\n",
    "<br>\n",
    "at least in any significant manner."
   ]
  },
  {
   "cell_type": "code",
   "execution_count": null,
   "metadata": {},
   "outputs": [],
   "source": []
  },
  {
   "cell_type": "markdown",
   "metadata": {},
   "source": [
    "There is another method which can be employed, which should help to determine if any relationship exists.\n",
    "<br>\n",
    "This is known as Granger Causality.\n",
    "<br>\n",
    "This is a statistical method which is used to test if one set of time series data,\n",
    "<br>\n",
    "would be useful in forecasting another."
   ]
  },
  {
   "cell_type": "code",
   "execution_count": 16,
   "metadata": {},
   "outputs": [
    {
     "data": {
      "text/html": [
       "<div>\n",
       "<style scoped>\n",
       "    .dataframe tbody tr th:only-of-type {\n",
       "        vertical-align: middle;\n",
       "    }\n",
       "\n",
       "    .dataframe tbody tr th {\n",
       "        vertical-align: top;\n",
       "    }\n",
       "\n",
       "    .dataframe thead th {\n",
       "        text-align: right;\n",
       "    }\n",
       "</style>\n",
       "<table border=\"1\" class=\"dataframe\">\n",
       "  <thead>\n",
       "    <tr style=\"text-align: right;\">\n",
       "      <th></th>\n",
       "      <th>Daily Change</th>\n",
       "      <th>Sentiment</th>\n",
       "    </tr>\n",
       "    <tr>\n",
       "      <th>Date</th>\n",
       "      <th></th>\n",
       "      <th></th>\n",
       "    </tr>\n",
       "  </thead>\n",
       "  <tbody>\n",
       "    <tr>\n",
       "      <th>01/07/2015</th>\n",
       "      <td>0.000000</td>\n",
       "      <td>0.000000</td>\n",
       "    </tr>\n",
       "    <tr>\n",
       "      <th>02/07/2015</th>\n",
       "      <td>10.869995</td>\n",
       "      <td>0.150000</td>\n",
       "    </tr>\n",
       "    <tr>\n",
       "      <th>03/07/2015</th>\n",
       "      <td>-0.149994</td>\n",
       "      <td>0.119048</td>\n",
       "    </tr>\n",
       "    <tr>\n",
       "      <th>04/07/2015</th>\n",
       "      <td>-0.074997</td>\n",
       "      <td>0.191667</td>\n",
       "    </tr>\n",
       "    <tr>\n",
       "      <th>05/07/2015</th>\n",
       "      <td>-0.037499</td>\n",
       "      <td>0.311111</td>\n",
       "    </tr>\n",
       "  </tbody>\n",
       "</table>\n",
       "</div>"
      ],
      "text/plain": [
       "            Daily Change  Sentiment\n",
       "Date                               \n",
       "01/07/2015      0.000000   0.000000\n",
       "02/07/2015     10.869995   0.150000\n",
       "03/07/2015     -0.149994   0.119048\n",
       "04/07/2015     -0.074997   0.191667\n",
       "05/07/2015     -0.037499   0.311111"
      ]
     },
     "execution_count": 16,
     "metadata": {},
     "output_type": "execute_result"
    }
   ],
   "source": [
    "correlation = pd.read_csv(\"correlation.csv\")\n",
    "correlation = correlation.set_index('Date')\n",
    "correlation.head()"
   ]
  },
  {
   "cell_type": "code",
   "execution_count": null,
   "metadata": {},
   "outputs": [],
   "source": []
  },
  {
   "cell_type": "code",
   "execution_count": 17,
   "metadata": {},
   "outputs": [],
   "source": [
    "from statsmodels.tsa.stattools import grangercausalitytests"
   ]
  },
  {
   "cell_type": "code",
   "execution_count": 19,
   "metadata": {},
   "outputs": [
    {
     "name": "stdout",
     "output_type": "stream",
     "text": [
      "\n",
      "Granger Causality\n",
      "number of lags (no zero) 1\n",
      "ssr based F test:         F=0.5488  , p=0.4589  , df_denom=1803, df_num=1\n",
      "ssr based chi2 test:   chi2=0.5497  , p=0.4585  , df=1\n",
      "likelihood ratio test: chi2=0.5496  , p=0.4585  , df=1\n",
      "parameter F test:         F=0.5488  , p=0.4589  , df_denom=1803, df_num=1\n",
      "\n",
      "Granger Causality\n",
      "number of lags (no zero) 2\n",
      "ssr based F test:         F=0.5179  , p=0.5958  , df_denom=1800, df_num=2\n",
      "ssr based chi2 test:   chi2=1.0388  , p=0.5949  , df=2\n",
      "likelihood ratio test: chi2=1.0385  , p=0.5950  , df=2\n",
      "parameter F test:         F=0.5179  , p=0.5958  , df_denom=1800, df_num=2\n",
      "\n",
      "Granger Causality\n",
      "number of lags (no zero) 3\n",
      "ssr based F test:         F=0.6188  , p=0.6028  , df_denom=1797, df_num=3\n",
      "ssr based chi2 test:   chi2=1.8636  , p=0.6012  , df=3\n",
      "likelihood ratio test: chi2=1.8627  , p=0.6014  , df=3\n",
      "parameter F test:         F=0.6188  , p=0.6028  , df_denom=1797, df_num=3\n",
      "\n",
      "Granger Causality\n",
      "number of lags (no zero) 4\n",
      "ssr based F test:         F=0.7849  , p=0.5349  , df_denom=1794, df_num=4\n",
      "ssr based chi2 test:   chi2=3.1555  , p=0.5322  , df=4\n",
      "likelihood ratio test: chi2=3.1527  , p=0.5326  , df=4\n",
      "parameter F test:         F=0.7849  , p=0.5349  , df_denom=1794, df_num=4\n",
      "\n",
      "Granger Causality\n",
      "number of lags (no zero) 5\n",
      "ssr based F test:         F=0.5752  , p=0.7191  , df_denom=1791, df_num=5\n",
      "ssr based chi2 test:   chi2=2.8936  , p=0.7164  , df=5\n",
      "likelihood ratio test: chi2=2.8912  , p=0.7167  , df=5\n",
      "parameter F test:         F=0.5752  , p=0.7191  , df_denom=1791, df_num=5\n",
      "\n",
      "Granger Causality\n",
      "number of lags (no zero) 6\n",
      "ssr based F test:         F=1.0703  , p=0.3781  , df_denom=1788, df_num=6\n",
      "ssr based chi2 test:   chi2=6.4687  , p=0.3728  , df=6\n",
      "likelihood ratio test: chi2=6.4571  , p=0.3740  , df=6\n",
      "parameter F test:         F=1.0703  , p=0.3781  , df_denom=1788, df_num=6\n",
      "\n",
      "Granger Causality\n",
      "number of lags (no zero) 7\n",
      "ssr based F test:         F=1.3521  , p=0.2217  , df_denom=1785, df_num=7\n",
      "ssr based chi2 test:   chi2=9.5444  , p=0.2159  , df=7\n",
      "likelihood ratio test: chi2=9.5192  , p=0.2175  , df=7\n",
      "parameter F test:         F=1.3521  , p=0.2217  , df_denom=1785, df_num=7\n",
      "\n",
      "Granger Causality\n",
      "number of lags (no zero) 8\n",
      "ssr based F test:         F=1.2648  , p=0.2576  , df_denom=1782, df_num=8\n",
      "ssr based chi2 test:   chi2=10.2152 , p=0.2502  , df=8\n",
      "likelihood ratio test: chi2=10.1863 , p=0.2522  , df=8\n",
      "parameter F test:         F=1.2648  , p=0.2576  , df_denom=1782, df_num=8\n",
      "\n",
      "Granger Causality\n",
      "number of lags (no zero) 9\n",
      "ssr based F test:         F=1.5040  , p=0.1408  , df_denom=1779, df_num=9\n",
      "ssr based chi2 test:   chi2=13.6806 , p=0.1341  , df=9\n",
      "likelihood ratio test: chi2=13.6288 , p=0.1362  , df=9\n",
      "parameter F test:         F=1.5040  , p=0.1408  , df_denom=1779, df_num=9\n",
      "\n",
      "Granger Causality\n",
      "number of lags (no zero) 10\n",
      "ssr based F test:         F=1.4778  , p=0.1415  , df_denom=1776, df_num=10\n",
      "ssr based chi2 test:   chi2=14.9525 , p=0.1338  , df=10\n",
      "likelihood ratio test: chi2=14.8907 , p=0.1361  , df=10\n",
      "parameter F test:         F=1.4778  , p=0.1415  , df_denom=1776, df_num=10\n"
     ]
    },
    {
     "data": {
      "text/plain": [
       "{1: ({'ssr_ftest': (0.5487523257226234, 0.45892440161833814, 1803.0, 1),\n",
       "   'ssr_chi2test': (0.549665391156438, 0.45845444735106144, 1),\n",
       "   'lrtest': (0.5495817613809777, 0.4584886365619475, 1),\n",
       "   'params_ftest': (0.5487523257225921, 0.4589244016184205, 1803.0, 1.0)},\n",
       "  [<statsmodels.regression.linear_model.RegressionResultsWrapper at 0x7f95dda61dd0>,\n",
       "   <statsmodels.regression.linear_model.RegressionResultsWrapper at 0x7f95dda73bd0>,\n",
       "   array([[0., 1., 0.]])]),\n",
       " 2: ({'ssr_ftest': (0.5179408377799831, 0.5958347829901882, 1800.0, 2),\n",
       "   'ssr_chi2test': (1.038759124658744, 0.5948895253660191, 2),\n",
       "   'lrtest': (1.0384603416350728, 0.5949784034502393, 2),\n",
       "   'params_ftest': (0.5179408377799886, 0.5958347829901882, 1800.0, 2.0)},\n",
       "  [<statsmodels.regression.linear_model.RegressionResultsWrapper at 0x7f95dda73e10>,\n",
       "   <statsmodels.regression.linear_model.RegressionResultsWrapper at 0x7f95dda73810>,\n",
       "   array([[0., 0., 1., 0., 0.],\n",
       "          [0., 0., 0., 1., 0.]])]),\n",
       " 3: ({'ssr_ftest': (0.6188043875861455, 0.6028314034100277, 1797.0, 3),\n",
       "   'ssr_chi2test': (1.863644599675136, 0.6011840399366337, 3),\n",
       "   'lrtest': (1.8626826315357903, 0.6013903951338282, 3),\n",
       "   'params_ftest': (0.6188043875861947, 0.6028314034099848, 1797.0, 3.0)},\n",
       "  [<statsmodels.regression.linear_model.RegressionResultsWrapper at 0x7f95dda8c550>,\n",
       "   <statsmodels.regression.linear_model.RegressionResultsWrapper at 0x7f95dda8c610>,\n",
       "   array([[0., 0., 0., 1., 0., 0., 0.],\n",
       "          [0., 0., 0., 0., 1., 0., 0.],\n",
       "          [0., 0., 0., 0., 0., 1., 0.]])]),\n",
       " 4: ({'ssr_ftest': (0.7849279487138381, 0.5348859366019861, 1794.0, 4),\n",
       "   'ssr_chi2test': (3.155462857371349, 0.5321543459444781, 4),\n",
       "   'lrtest': (3.152704858521247, 0.5326036152089152, 4),\n",
       "   'params_ftest': (0.7849279487138361, 0.5348859366019861, 1794.0, 4.0)},\n",
       "  [<statsmodels.regression.linear_model.RegressionResultsWrapper at 0x7f95dda8ca50>,\n",
       "   <statsmodels.regression.linear_model.RegressionResultsWrapper at 0x7f95dda8c950>,\n",
       "   array([[0., 0., 0., 0., 1., 0., 0., 0., 0.],\n",
       "          [0., 0., 0., 0., 0., 1., 0., 0., 0.],\n",
       "          [0., 0., 0., 0., 0., 0., 1., 0., 0.],\n",
       "          [0., 0., 0., 0., 0., 0., 0., 1., 0.]])]),\n",
       " 5: ({'ssr_ftest': (0.5751813564882002, 0.7190949611656702, 1791.0, 5),\n",
       "   'ssr_chi2test': (2.8935700848457193, 0.7163899800522745, 5),\n",
       "   'lrtest': (2.891249386855634, 0.7167474325598041, 5),\n",
       "   'params_ftest': (0.5751813564882726, 0.7190949611655784, 1791.0, 5.0)},\n",
       "  [<statsmodels.regression.linear_model.RegressionResultsWrapper at 0x7f95dda8cfd0>,\n",
       "   <statsmodels.regression.linear_model.RegressionResultsWrapper at 0x7f95dda8ced0>,\n",
       "   array([[0., 0., 0., 0., 0., 1., 0., 0., 0., 0., 0.],\n",
       "          [0., 0., 0., 0., 0., 0., 1., 0., 0., 0., 0.],\n",
       "          [0., 0., 0., 0., 0., 0., 0., 1., 0., 0., 0.],\n",
       "          [0., 0., 0., 0., 0., 0., 0., 0., 1., 0., 0.],\n",
       "          [0., 0., 0., 0., 0., 0., 0., 0., 0., 1., 0.]])]),\n",
       " 6: ({'ssr_ftest': (1.0703405324178654, 0.3780594397166479, 1788.0, 6),\n",
       "   'ssr_chi2test': (6.468735902297235, 0.3727773586940927, 6),\n",
       "   'lrtest': (6.457146613944133, 0.3739724120959912, 6),\n",
       "   'params_ftest': (1.0703405324178432, 0.37805943971666645, 1788.0, 6.0)},\n",
       "  [<statsmodels.regression.linear_model.RegressionResultsWrapper at 0x7f95dda93350>,\n",
       "   <statsmodels.regression.linear_model.RegressionResultsWrapper at 0x7f95dda932d0>,\n",
       "   array([[0., 0., 0., 0., 0., 0., 1., 0., 0., 0., 0., 0., 0.],\n",
       "          [0., 0., 0., 0., 0., 0., 0., 1., 0., 0., 0., 0., 0.],\n",
       "          [0., 0., 0., 0., 0., 0., 0., 0., 1., 0., 0., 0., 0.],\n",
       "          [0., 0., 0., 0., 0., 0., 0., 0., 0., 1., 0., 0., 0.],\n",
       "          [0., 0., 0., 0., 0., 0., 0., 0., 0., 0., 1., 0., 0.],\n",
       "          [0., 0., 0., 0., 0., 0., 0., 0., 0., 0., 0., 1., 0.]])]),\n",
       " 7: ({'ssr_ftest': (1.3521267470932514, 0.22174102783214206, 1785.0, 7),\n",
       "   'ssr_chi2test': (9.544424097128834, 0.2158933197976847, 7),\n",
       "   'lrtest': (9.519208740279282, 0.21749514748378074, 7),\n",
       "   'params_ftest': (1.3521267470932468, 0.22174102783214206, 1785.0, 7.0)},\n",
       "  [<statsmodels.regression.linear_model.RegressionResultsWrapper at 0x7f95dda93c90>,\n",
       "   <statsmodels.regression.linear_model.RegressionResultsWrapper at 0x7f95dda93b10>,\n",
       "   array([[0., 0., 0., 0., 0., 0., 0., 1., 0., 0., 0., 0., 0., 0., 0.],\n",
       "          [0., 0., 0., 0., 0., 0., 0., 0., 1., 0., 0., 0., 0., 0., 0.],\n",
       "          [0., 0., 0., 0., 0., 0., 0., 0., 0., 1., 0., 0., 0., 0., 0.],\n",
       "          [0., 0., 0., 0., 0., 0., 0., 0., 0., 0., 1., 0., 0., 0., 0.],\n",
       "          [0., 0., 0., 0., 0., 0., 0., 0., 0., 0., 0., 1., 0., 0., 0.],\n",
       "          [0., 0., 0., 0., 0., 0., 0., 0., 0., 0., 0., 0., 1., 0., 0.],\n",
       "          [0., 0., 0., 0., 0., 0., 0., 0., 0., 0., 0., 0., 0., 1., 0.]])]),\n",
       " 8: ({'ssr_ftest': (1.2648343744219244, 0.25759435516719453, 1782.0, 8),\n",
       "   'ssr_chi2test': (10.215205564916014, 0.25024508965414166, 8),\n",
       "   'lrtest': (10.186312546695262, 0.2521920301007025, 8),\n",
       "   'params_ftest': (1.264834374421895, 0.25759435516720125, 1782.0, 8.0)},\n",
       "  [<statsmodels.regression.linear_model.RegressionResultsWrapper at 0x7f95dda93e90>,\n",
       "   <statsmodels.regression.linear_model.RegressionResultsWrapper at 0x7f95dda93e10>,\n",
       "   array([[0., 0., 0., 0., 0., 0., 0., 0., 1., 0., 0., 0., 0., 0., 0., 0.,\n",
       "           0.],\n",
       "          [0., 0., 0., 0., 0., 0., 0., 0., 0., 1., 0., 0., 0., 0., 0., 0.,\n",
       "           0.],\n",
       "          [0., 0., 0., 0., 0., 0., 0., 0., 0., 0., 1., 0., 0., 0., 0., 0.,\n",
       "           0.],\n",
       "          [0., 0., 0., 0., 0., 0., 0., 0., 0., 0., 0., 1., 0., 0., 0., 0.,\n",
       "           0.],\n",
       "          [0., 0., 0., 0., 0., 0., 0., 0., 0., 0., 0., 0., 1., 0., 0., 0.,\n",
       "           0.],\n",
       "          [0., 0., 0., 0., 0., 0., 0., 0., 0., 0., 0., 0., 0., 1., 0., 0.,\n",
       "           0.],\n",
       "          [0., 0., 0., 0., 0., 0., 0., 0., 0., 0., 0., 0., 0., 0., 1., 0.,\n",
       "           0.],\n",
       "          [0., 0., 0., 0., 0., 0., 0., 0., 0., 0., 0., 0., 0., 0., 0., 1.,\n",
       "           0.]])]),\n",
       " 9: ({'ssr_ftest': (1.5040045994935383, 0.14080183110627642, 1779.0, 9),\n",
       "   'ssr_chi2test': (13.68060844800699, 0.13414880873948082, 9),\n",
       "   'lrtest': (13.62882450393954, 0.1361547733078462, 9),\n",
       "   'params_ftest': (1.5040045994935332, 0.14080183110627642, 1779.0, 9.0)},\n",
       "  [<statsmodels.regression.linear_model.RegressionResultsWrapper at 0x7f95dda99a90>,\n",
       "   <statsmodels.regression.linear_model.RegressionResultsWrapper at 0x7f95dda99910>,\n",
       "   array([[0., 0., 0., 0., 0., 0., 0., 0., 0., 1., 0., 0., 0., 0., 0., 0.,\n",
       "           0., 0., 0.],\n",
       "          [0., 0., 0., 0., 0., 0., 0., 0., 0., 0., 1., 0., 0., 0., 0., 0.,\n",
       "           0., 0., 0.],\n",
       "          [0., 0., 0., 0., 0., 0., 0., 0., 0., 0., 0., 1., 0., 0., 0., 0.,\n",
       "           0., 0., 0.],\n",
       "          [0., 0., 0., 0., 0., 0., 0., 0., 0., 0., 0., 0., 1., 0., 0., 0.,\n",
       "           0., 0., 0.],\n",
       "          [0., 0., 0., 0., 0., 0., 0., 0., 0., 0., 0., 0., 0., 1., 0., 0.,\n",
       "           0., 0., 0.],\n",
       "          [0., 0., 0., 0., 0., 0., 0., 0., 0., 0., 0., 0., 0., 0., 1., 0.,\n",
       "           0., 0., 0.],\n",
       "          [0., 0., 0., 0., 0., 0., 0., 0., 0., 0., 0., 0., 0., 0., 0., 1.,\n",
       "           0., 0., 0.],\n",
       "          [0., 0., 0., 0., 0., 0., 0., 0., 0., 0., 0., 0., 0., 0., 0., 0.,\n",
       "           1., 0., 0.],\n",
       "          [0., 0., 0., 0., 0., 0., 0., 0., 0., 0., 0., 0., 0., 0., 0., 0.,\n",
       "           0., 1., 0.]])]),\n",
       " 10: ({'ssr_ftest': (1.4777794445283567, 0.14145514987750807, 1776.0, 10),\n",
       "   'ssr_chi2test': (14.9525318796028, 0.1338020662274935, 10),\n",
       "   'lrtest': (14.890666086404963, 0.13609910990779903, 10),\n",
       "   'params_ftest': (1.4777794445283448, 0.14145514987750807, 1776.0, 10.0)},\n",
       "  [<statsmodels.regression.linear_model.RegressionResultsWrapper at 0x7f95dda99e90>,\n",
       "   <statsmodels.regression.linear_model.RegressionResultsWrapper at 0x7f95dda99dd0>,\n",
       "   array([[0., 0., 0., 0., 0., 0., 0., 0., 0., 0., 1., 0., 0., 0., 0., 0.,\n",
       "           0., 0., 0., 0., 0.],\n",
       "          [0., 0., 0., 0., 0., 0., 0., 0., 0., 0., 0., 1., 0., 0., 0., 0.,\n",
       "           0., 0., 0., 0., 0.],\n",
       "          [0., 0., 0., 0., 0., 0., 0., 0., 0., 0., 0., 0., 1., 0., 0., 0.,\n",
       "           0., 0., 0., 0., 0.],\n",
       "          [0., 0., 0., 0., 0., 0., 0., 0., 0., 0., 0., 0., 0., 1., 0., 0.,\n",
       "           0., 0., 0., 0., 0.],\n",
       "          [0., 0., 0., 0., 0., 0., 0., 0., 0., 0., 0., 0., 0., 0., 1., 0.,\n",
       "           0., 0., 0., 0., 0.],\n",
       "          [0., 0., 0., 0., 0., 0., 0., 0., 0., 0., 0., 0., 0., 0., 0., 1.,\n",
       "           0., 0., 0., 0., 0.],\n",
       "          [0., 0., 0., 0., 0., 0., 0., 0., 0., 0., 0., 0., 0., 0., 0., 0.,\n",
       "           1., 0., 0., 0., 0.],\n",
       "          [0., 0., 0., 0., 0., 0., 0., 0., 0., 0., 0., 0., 0., 0., 0., 0.,\n",
       "           0., 1., 0., 0., 0.],\n",
       "          [0., 0., 0., 0., 0., 0., 0., 0., 0., 0., 0., 0., 0., 0., 0., 0.,\n",
       "           0., 0., 1., 0., 0.],\n",
       "          [0., 0., 0., 0., 0., 0., 0., 0., 0., 0., 0., 0., 0., 0., 0., 0.,\n",
       "           0., 0., 0., 1., 0.]])])}"
      ]
     },
     "execution_count": 19,
     "metadata": {},
     "output_type": "execute_result"
    }
   ],
   "source": [
    "grangercausalitytests(correlation[['Daily Change', 'Sentiment']], maxlag=10)"
   ]
  },
  {
   "cell_type": "markdown",
   "metadata": {},
   "source": [
    "For the Granger Causality test, we consider if past values of Y can be used to predict X,\n",
    "<br>\n",
    "better than previous values of X alone.\n",
    "<br>\n",
    "As the p-value of each of the tests was greater than the testing level,\n",
    "<br>\n",
    "which was set at 0.05 as per statistical tradition,\n",
    "<br>\n",
    "we do not reject the null hypothesis.\n",
    "<br>\n",
    "This means that we must conclude that there is no causal effect of the lag in the sentiment."
   ]
  },
  {
   "cell_type": "code",
   "execution_count": null,
   "metadata": {},
   "outputs": [],
   "source": []
  }
 ],
 "metadata": {
  "kernelspec": {
   "display_name": "Python 3",
   "language": "python",
   "name": "python3"
  },
  "language_info": {
   "codemirror_mode": {
    "name": "ipython",
    "version": 3
   },
   "file_extension": ".py",
   "mimetype": "text/x-python",
   "name": "python",
   "nbconvert_exporter": "python",
   "pygments_lexer": "ipython3",
   "version": "3.7.4"
  }
 },
 "nbformat": 4,
 "nbformat_minor": 4
}
